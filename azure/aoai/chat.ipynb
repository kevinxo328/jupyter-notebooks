{
 "cells": [
  {
   "cell_type": "code",
   "execution_count": null,
   "metadata": {},
   "outputs": [],
   "source": [
    "from pydantic_settings import BaseSettings\n",
    "from typing import Optional\n",
    "\n",
    "\n",
    "class AOAISettings(BaseSettings):\n",
    "    AOAI_API_KEY: str\n",
    "    AOAI_API_VERSION: str\n",
    "    AOAI_API_ENDPOINT: str\n",
    "    AOAI_GPT3_MODEL: str\n",
    "    AOAI_GPT4_MODEL: Optional[str] = \"\"\n",
    "    AOAI_EMBEDDING_MODEL: str\n",
    "\n",
    "\n",
    "class Env(AOAISettings):\n",
    "    class Config:\n",
    "        env_file = \".env\"\n",
    "\n",
    "env = Env()"
   ]
  },
  {
   "cell_type": "code",
   "execution_count": null,
   "metadata": {},
   "outputs": [],
   "source": [
    "from openai import AzureOpenAI\n",
    "\n",
    "aoai = AzureOpenAI(\n",
    "    api_key=env.AOAI_API_KEY,\n",
    "    api_version=env.AOAI_API_VERSION,\n",
    "    azure_endpoint=env.AOAI_API_ENDPOINT,\n",
    ")"
   ]
  },
  {
   "cell_type": "code",
   "execution_count": 5,
   "metadata": {},
   "outputs": [],
   "source": [
    "from asyncio import sleep\n",
    "\n",
    "sys_prompt = \"\"\" 你是一個聊天機器人，如果想要退出，請輸入 exit\"\"\"\n",
    "\n",
    "async def start_chat(sys_prompt=sys_prompt, temp=0.5):\n",
    "    while True:\n",
    "        user_input = input(\"\")\n",
    "        if user_input == \"exit\":\n",
    "            break\n",
    "\n",
    "        response = aoai.chat.completions.create(\n",
    "            messages=[\n",
    "                {\"role\": \"system\", \"content\": sys_prompt},\n",
    "                {\"role\": \"user\", \"content\": user_input},\n",
    "            ],\n",
    "            model=env.AOAI_GPT4_MODEL if env.AOAI_GPT4_MODEL else env.AOAI_GPT3_MODEL,\n",
    "            temperature=temp\n",
    "        )\n",
    "\n",
    "        print(\"Q:\", user_input)\n",
    "        print(\"A:\", response.choices[0].message.content)\n",
    "        print(\"=\" * 100)\n",
    "        await sleep(2)"
   ]
  },
  {
   "cell_type": "code",
   "execution_count": 7,
   "metadata": {},
   "outputs": [
    {
     "name": "stdout",
     "output_type": "stream",
     "text": [
      "Q: hi\n",
      "A: 你好！有什么我可以帮你的吗？\n",
      "====================================================================================================\n",
      "Q: 妳好\n",
      "A: 你好！有什麼我可以幫忙的嗎？\n",
      "====================================================================================================\n",
      "Q: 早安\n",
      "A: 早安！今天過得怎麼樣？有什麼我可以幫忙的嗎？\n",
      "====================================================================================================\n",
      "Q: hello\n",
      "A: Hello! How can I assist you today?\n",
      "====================================================================================================\n"
     ]
    }
   ],
   "source": [
    "await start_chat()"
   ]
  },
  {
   "cell_type": "code",
   "execution_count": null,
   "metadata": {},
   "outputs": [],
   "source": []
  }
 ],
 "metadata": {
  "kernelspec": {
   "display_name": ".venv",
   "language": "python",
   "name": "python3"
  },
  "language_info": {
   "codemirror_mode": {
    "name": "ipython",
    "version": 3
   },
   "file_extension": ".py",
   "mimetype": "text/x-python",
   "name": "python",
   "nbconvert_exporter": "python",
   "pygments_lexer": "ipython3",
   "version": "3.10.12"
  }
 },
 "nbformat": 4,
 "nbformat_minor": 2
}
