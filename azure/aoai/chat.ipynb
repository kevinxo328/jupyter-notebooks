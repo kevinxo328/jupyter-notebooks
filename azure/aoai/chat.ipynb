{
 "cells": [
  {
   "cell_type": "code",
   "execution_count": 2,
   "metadata": {},
   "outputs": [],
   "source": [
    "from pydantic_settings import BaseSettings\n",
    "from typing import Optional\n",
    "\n",
    "\n",
    "class AOAISettings(BaseSettings):\n",
    "    AOAI_API_KEY: str\n",
    "    AOAI_API_VERSION: str\n",
    "    AOAI_API_ENDPOINT: str\n",
    "    AOAI_GPT3_MODEL: str\n",
    "    AOAI_GPT4_MODEL: Optional[str] = \"\"\n",
    "    AOAI_EMBEDDING_MODEL: str\n",
    "\n",
    "\n",
    "class Env(AOAISettings):\n",
    "    class Config:\n",
    "        env_file = \".env\"\n",
    "\n",
    "env = Env()"
   ]
  },
  {
   "cell_type": "code",
   "execution_count": 3,
   "metadata": {},
   "outputs": [],
   "source": [
    "from openai import AzureOpenAI\n",
    "\n",
    "aoai = AzureOpenAI(\n",
    "    api_key=env.AOAI_API_KEY,\n",
    "    api_version=env.AOAI_API_VERSION,\n",
    "    azure_endpoint=env.AOAI_API_ENDPOINT,\n",
    ")"
   ]
  },
  {
   "cell_type": "code",
   "execution_count": 4,
   "metadata": {},
   "outputs": [
    {
     "name": "stdout",
     "output_type": "stream",
     "text": [
      "Q: 你好\n",
      "A: 你好！今天過得怎麼樣？有什麼我可以幫助你的嗎？\n",
      "====================================================================================================\n",
      "Q: 你是誰\n",
      "A: 我是一个聊天机器人，旨在回答你的问题和协助你处理各种事情。你可以向我提问，或者分享你想讨论的话题。有什么我可以帮忙的吗？\n",
      "====================================================================================================\n",
      "Q: 我要怎麼退出\n",
      "A: 如果你想退出這個聊天，只需輸入 \"exit\"。有什麼我能幫你解決的嗎？\n",
      "====================================================================================================\n"
     ]
    }
   ],
   "source": [
    "sys_prompt = \"\"\" 你是一個聊天機器人，如果想要退出，請輸入 exit\"\"\"\n",
    "\n",
    "def start_chat(sys_prompt=sys_prompt, temp=0.5):\n",
    "    while True:\n",
    "        user_input = input(\"\")\n",
    "        if user_input == \"exit\":\n",
    "            break\n",
    "        response = aoai.chat.completions.create(\n",
    "            messages=[\n",
    "                {\"role\": \"system\", \"content\": sys_prompt},\n",
    "                {\"role\": \"user\", \"content\": user_input},\n",
    "            ],\n",
    "            model=env.AOAI_GPT4_MODEL if env.AOAI_GPT4_MODEL else env.AOAI_GPT3_MODEL,\n",
    "            temperature=temp\n",
    "        )\n",
    "\n",
    "        print(\"Q:\", user_input)\n",
    "        print(\"A:\", response.choices[0].message.content)\n",
    "        print(\"=\" * 100)"
   ]
  },
  {
   "cell_type": "code",
   "execution_count": null,
   "metadata": {},
   "outputs": [],
   "source": []
  }
 ],
 "metadata": {
  "kernelspec": {
   "display_name": ".venv",
   "language": "python",
   "name": "python3"
  },
  "language_info": {
   "codemirror_mode": {
    "name": "ipython",
    "version": 3
   },
   "file_extension": ".py",
   "mimetype": "text/x-python",
   "name": "python",
   "nbconvert_exporter": "python",
   "pygments_lexer": "ipython3",
   "version": "3.10.12"
  }
 },
 "nbformat": 4,
 "nbformat_minor": 2
}
